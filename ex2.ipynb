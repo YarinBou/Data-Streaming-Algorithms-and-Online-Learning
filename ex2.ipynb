{
  "nbformat": 4,
  "nbformat_minor": 0,
  "metadata": {
    "colab": {
      "provenance": [],
      "include_colab_link": true
    },
    "kernelspec": {
      "name": "python3",
      "display_name": "Python 3"
    },
    "language_info": {
      "name": "python"
    }
  },
  "cells": [
    {
      "cell_type": "markdown",
      "metadata": {
        "id": "view-in-github",
        "colab_type": "text"
      },
      "source": [
        "<a href=\"https://colab.research.google.com/github/YarinBou/Data-Streaming-Algorithms-and-Online-Learning/blob/main/ex2.ipynb\" target=\"_parent\"><img src=\"https://colab.research.google.com/assets/colab-badge.svg\" alt=\"Open In Colab\"/></a>"
      ]
    },
    {
      "cell_type": "markdown",
      "source": [
        "## Data Streaming Algorithms and Online Learning EX2"
      ],
      "metadata": {
        "id": "XzHifLZ0t82f"
      }
    },
    {
      "cell_type": "markdown",
      "source": [
        "Yarin Bouzaglo\n",
        "Enav sasson"
      ],
      "metadata": {
        "id": "g9KfuYYSA904"
      }
    },
    {
      "cell_type": "markdown",
      "source": [
        "## Data pre-processing\n",
        " "
      ],
      "metadata": {
        "id": "CeXOXS_POJV0"
      }
    },
    {
      "cell_type": "code",
      "source": [
        "!pip install mmh3"
      ],
      "metadata": {
        "colab": {
          "base_uri": "https://localhost:8080/"
        },
        "id": "6kLL-LomOZxt",
        "outputId": "b9f64e04-c7b4-4e9e-f7c4-92f3be536226"
      },
      "execution_count": 1,
      "outputs": [
        {
          "output_type": "stream",
          "name": "stdout",
          "text": [
            "Looking in indexes: https://pypi.org/simple, https://us-python.pkg.dev/colab-wheels/public/simple/\n",
            "Requirement already satisfied: mmh3 in /usr/local/lib/python3.8/dist-packages (3.0.0)\n"
          ]
        }
      ]
    },
    {
      "cell_type": "code",
      "source": [
        "!pip install tqdm"
      ],
      "metadata": {
        "colab": {
          "base_uri": "https://localhost:8080/"
        },
        "id": "SD1R0kZuxgC-",
        "outputId": "68d95454-e601-4e62-b2a3-a6911d054b88"
      },
      "execution_count": 2,
      "outputs": [
        {
          "output_type": "stream",
          "name": "stdout",
          "text": [
            "Looking in indexes: https://pypi.org/simple, https://us-python.pkg.dev/colab-wheels/public/simple/\n",
            "Requirement already satisfied: tqdm in /usr/local/lib/python3.8/dist-packages (4.64.1)\n"
          ]
        }
      ]
    },
    {
      "cell_type": "code",
      "source": [
        "!pip install -U -q PyDrive"
      ],
      "metadata": {
        "id": "RMMKZGHsNTeB"
      },
      "execution_count": 3,
      "outputs": []
    },
    {
      "cell_type": "code",
      "source": [
        "from google.colab import drive\n",
        "import pandas as pd\n",
        "import random\n",
        "from tabulate import tabulate\n",
        "from collections import Counter,defaultdict\n",
        "from tqdm import tqdm\n",
        "import math\n",
        "import numpy as np\n",
        "import random\n",
        "import os\n",
        "import random\n",
        "from pydrive.auth import GoogleAuth\n",
        "from pydrive.drive import GoogleDrive\n",
        "from google.colab import auth\n",
        "from oauth2client.client import GoogleCredentials\n",
        "import mmh3\n",
        "import matplotlib.pyplot as plt\n",
        "from operator import itemgetter\n",
        "from tqdm import tqdm"
      ],
      "metadata": {
        "id": "bTHKgLUhtpfQ"
      },
      "execution_count": 4,
      "outputs": []
    },
    {
      "cell_type": "code",
      "source": [
        "# Authenticate and create the PyDrive client.\n",
        "auth.authenticate_user()\n",
        "gauth = GoogleAuth()\n",
        "gauth.credentials = GoogleCredentials.get_application_default()\n",
        "drive = GoogleDrive(gauth)"
      ],
      "metadata": {
        "id": "IR7Lj0ahNUB6"
      },
      "execution_count": 5,
      "outputs": []
    },
    {
      "cell_type": "code",
      "source": [
        "link = \"https://drive.google.com/file/d/1IoAt94Hcwoc-oe2gKlz4lvz9IUk-ZVFT/view\"\n",
        "\n",
        "# to get the id part of the file\n",
        "id = link.split(\"/\")[-2]\n",
        " \n",
        "downloaded = drive.CreateFile({'id':id})\n",
        "downloaded.GetContentFile('xclara.csv') \n",
        " \n",
        "df = pd.read_csv('xclara.csv')"
      ],
      "metadata": {
        "id": "VuwwZuG2Nj2b"
      },
      "execution_count": 6,
      "outputs": []
    },
    {
      "cell_type": "code",
      "source": [
        "df.head()"
      ],
      "metadata": {
        "colab": {
          "base_uri": "https://localhost:8080/",
          "height": 206
        },
        "id": "HgxDdfzmN1vR",
        "outputId": "8b56963c-b703-4fb5-b6da-fdf940fcf47e"
      },
      "execution_count": 7,
      "outputs": [
        {
          "output_type": "execute_result",
          "data": {
            "text/plain": [
              "                            time        ipv4Src      ipv4Dest  ipProtocol  \\\n",
              "0  2017-07-03 11:55:58.598307848  8.254.250.126  192.168.10.5         6.0   \n",
              "1  2017-07-03 11:55:58.598311901  8.254.250.126  192.168.10.5         6.0   \n",
              "2  2017-07-03 11:55:58.598312855  8.254.250.126  192.168.10.5         6.0   \n",
              "3  2017-07-03 11:55:58.598313808  8.254.250.126  192.168.10.5         6.0   \n",
              "4  2017-07-03 11:55:58.598314762  8.254.250.126  192.168.10.5         6.0   \n",
              "\n",
              "   volume  sourcePort  destPort  \n",
              "0    40.0        80.0   49188.0  \n",
              "1    40.0        80.0   49188.0  \n",
              "2    40.0        80.0   49188.0  \n",
              "3    40.0        80.0   49188.0  \n",
              "4    40.0        80.0   49188.0  "
            ],
            "text/html": [
              "\n",
              "  <div id=\"df-d182ad0d-331b-48c2-91cf-634d17014e20\">\n",
              "    <div class=\"colab-df-container\">\n",
              "      <div>\n",
              "<style scoped>\n",
              "    .dataframe tbody tr th:only-of-type {\n",
              "        vertical-align: middle;\n",
              "    }\n",
              "\n",
              "    .dataframe tbody tr th {\n",
              "        vertical-align: top;\n",
              "    }\n",
              "\n",
              "    .dataframe thead th {\n",
              "        text-align: right;\n",
              "    }\n",
              "</style>\n",
              "<table border=\"1\" class=\"dataframe\">\n",
              "  <thead>\n",
              "    <tr style=\"text-align: right;\">\n",
              "      <th></th>\n",
              "      <th>time</th>\n",
              "      <th>ipv4Src</th>\n",
              "      <th>ipv4Dest</th>\n",
              "      <th>ipProtocol</th>\n",
              "      <th>volume</th>\n",
              "      <th>sourcePort</th>\n",
              "      <th>destPort</th>\n",
              "    </tr>\n",
              "  </thead>\n",
              "  <tbody>\n",
              "    <tr>\n",
              "      <th>0</th>\n",
              "      <td>2017-07-03 11:55:58.598307848</td>\n",
              "      <td>8.254.250.126</td>\n",
              "      <td>192.168.10.5</td>\n",
              "      <td>6.0</td>\n",
              "      <td>40.0</td>\n",
              "      <td>80.0</td>\n",
              "      <td>49188.0</td>\n",
              "    </tr>\n",
              "    <tr>\n",
              "      <th>1</th>\n",
              "      <td>2017-07-03 11:55:58.598311901</td>\n",
              "      <td>8.254.250.126</td>\n",
              "      <td>192.168.10.5</td>\n",
              "      <td>6.0</td>\n",
              "      <td>40.0</td>\n",
              "      <td>80.0</td>\n",
              "      <td>49188.0</td>\n",
              "    </tr>\n",
              "    <tr>\n",
              "      <th>2</th>\n",
              "      <td>2017-07-03 11:55:58.598312855</td>\n",
              "      <td>8.254.250.126</td>\n",
              "      <td>192.168.10.5</td>\n",
              "      <td>6.0</td>\n",
              "      <td>40.0</td>\n",
              "      <td>80.0</td>\n",
              "      <td>49188.0</td>\n",
              "    </tr>\n",
              "    <tr>\n",
              "      <th>3</th>\n",
              "      <td>2017-07-03 11:55:58.598313808</td>\n",
              "      <td>8.254.250.126</td>\n",
              "      <td>192.168.10.5</td>\n",
              "      <td>6.0</td>\n",
              "      <td>40.0</td>\n",
              "      <td>80.0</td>\n",
              "      <td>49188.0</td>\n",
              "    </tr>\n",
              "    <tr>\n",
              "      <th>4</th>\n",
              "      <td>2017-07-03 11:55:58.598314762</td>\n",
              "      <td>8.254.250.126</td>\n",
              "      <td>192.168.10.5</td>\n",
              "      <td>6.0</td>\n",
              "      <td>40.0</td>\n",
              "      <td>80.0</td>\n",
              "      <td>49188.0</td>\n",
              "    </tr>\n",
              "  </tbody>\n",
              "</table>\n",
              "</div>\n",
              "      <button class=\"colab-df-convert\" onclick=\"convertToInteractive('df-d182ad0d-331b-48c2-91cf-634d17014e20')\"\n",
              "              title=\"Convert this dataframe to an interactive table.\"\n",
              "              style=\"display:none;\">\n",
              "        \n",
              "  <svg xmlns=\"http://www.w3.org/2000/svg\" height=\"24px\"viewBox=\"0 0 24 24\"\n",
              "       width=\"24px\">\n",
              "    <path d=\"M0 0h24v24H0V0z\" fill=\"none\"/>\n",
              "    <path d=\"M18.56 5.44l.94 2.06.94-2.06 2.06-.94-2.06-.94-.94-2.06-.94 2.06-2.06.94zm-11 1L8.5 8.5l.94-2.06 2.06-.94-2.06-.94L8.5 2.5l-.94 2.06-2.06.94zm10 10l.94 2.06.94-2.06 2.06-.94-2.06-.94-.94-2.06-.94 2.06-2.06.94z\"/><path d=\"M17.41 7.96l-1.37-1.37c-.4-.4-.92-.59-1.43-.59-.52 0-1.04.2-1.43.59L10.3 9.45l-7.72 7.72c-.78.78-.78 2.05 0 2.83L4 21.41c.39.39.9.59 1.41.59.51 0 1.02-.2 1.41-.59l7.78-7.78 2.81-2.81c.8-.78.8-2.07 0-2.86zM5.41 20L4 18.59l7.72-7.72 1.47 1.35L5.41 20z\"/>\n",
              "  </svg>\n",
              "      </button>\n",
              "      \n",
              "  <style>\n",
              "    .colab-df-container {\n",
              "      display:flex;\n",
              "      flex-wrap:wrap;\n",
              "      gap: 12px;\n",
              "    }\n",
              "\n",
              "    .colab-df-convert {\n",
              "      background-color: #E8F0FE;\n",
              "      border: none;\n",
              "      border-radius: 50%;\n",
              "      cursor: pointer;\n",
              "      display: none;\n",
              "      fill: #1967D2;\n",
              "      height: 32px;\n",
              "      padding: 0 0 0 0;\n",
              "      width: 32px;\n",
              "    }\n",
              "\n",
              "    .colab-df-convert:hover {\n",
              "      background-color: #E2EBFA;\n",
              "      box-shadow: 0px 1px 2px rgba(60, 64, 67, 0.3), 0px 1px 3px 1px rgba(60, 64, 67, 0.15);\n",
              "      fill: #174EA6;\n",
              "    }\n",
              "\n",
              "    [theme=dark] .colab-df-convert {\n",
              "      background-color: #3B4455;\n",
              "      fill: #D2E3FC;\n",
              "    }\n",
              "\n",
              "    [theme=dark] .colab-df-convert:hover {\n",
              "      background-color: #434B5C;\n",
              "      box-shadow: 0px 1px 3px 1px rgba(0, 0, 0, 0.15);\n",
              "      filter: drop-shadow(0px 1px 2px rgba(0, 0, 0, 0.3));\n",
              "      fill: #FFFFFF;\n",
              "    }\n",
              "  </style>\n",
              "\n",
              "      <script>\n",
              "        const buttonEl =\n",
              "          document.querySelector('#df-d182ad0d-331b-48c2-91cf-634d17014e20 button.colab-df-convert');\n",
              "        buttonEl.style.display =\n",
              "          google.colab.kernel.accessAllowed ? 'block' : 'none';\n",
              "\n",
              "        async function convertToInteractive(key) {\n",
              "          const element = document.querySelector('#df-d182ad0d-331b-48c2-91cf-634d17014e20');\n",
              "          const dataTable =\n",
              "            await google.colab.kernel.invokeFunction('convertToInteractive',\n",
              "                                                     [key], {});\n",
              "          if (!dataTable) return;\n",
              "\n",
              "          const docLinkHtml = 'Like what you see? Visit the ' +\n",
              "            '<a target=\"_blank\" href=https://colab.research.google.com/notebooks/data_table.ipynb>data table notebook</a>'\n",
              "            + ' to learn more about interactive tables.';\n",
              "          element.innerHTML = '';\n",
              "          dataTable['output_type'] = 'display_data';\n",
              "          await google.colab.output.renderOutput(dataTable, element);\n",
              "          const docLink = document.createElement('div');\n",
              "          docLink.innerHTML = docLinkHtml;\n",
              "          element.appendChild(docLink);\n",
              "        }\n",
              "      </script>\n",
              "    </div>\n",
              "  </div>\n",
              "  "
            ]
          },
          "metadata": {},
          "execution_count": 7
        }
      ]
    },
    {
      "cell_type": "markdown",
      "source": [
        "## Count Min Sketch"
      ],
      "metadata": {
        "id": "t19QHspYCbJ7"
      }
    },
    {
      "cell_type": "code",
      "source": [
        "ipv4Src_ls = df.ipv4Src.values.tolist()\n",
        "ipv4Src_unique = df.ipv4Src.unique().tolist()"
      ],
      "metadata": {
        "id": "k2V1v1xy3gdY"
      },
      "execution_count": 8,
      "outputs": []
    },
    {
      "cell_type": "code",
      "source": [
        "class CountMinSketchWithMorris:\n",
        "  \"\"\"\n",
        "  Args:\n",
        "            d (int): number of hash functions\n",
        "            w (int): size of hash \n",
        "            s (int): size of morris array \n",
        "  \"\"\"\n",
        "  def __init__(self,d,w,s):\n",
        "    if d <= 0 or w <= 0 or s <= 1:\n",
        "      raise ValueError(\"d, w, s must be greater than 0, s must be greater than 1.\")\n",
        "    self.d = d\n",
        "    self.w = w\n",
        "    self.s = s\n",
        "\n",
        "    self.p = 100000 # a (relatively) large prime\n",
        "\n",
        "    self.a = [random.randrange(self.p) for i in range(d)]\n",
        "    self.b = [random.randrange(self.p) for i in range(d)]\n",
        "\n",
        "    self.array_init()\n",
        "\n",
        "  def morris_array_init(self):\n",
        "      return [0 for x in range(self.s)] \n",
        "\n",
        "  def array_init(self):\n",
        "      self.array = [[self.morris_array_init() for x in range(self.w)] for y in range(self.d)] \n",
        "  \n",
        "  def hash(self, x, a, b):\n",
        "      return ((a*mmh3.hash(x)+b)%self.p)%self.w\n",
        "\n",
        "  def get_hashes(self, x):\n",
        "      hashes = []\n",
        "      for a, b in zip(self.a, self.b):\n",
        "          hashes.append(self.hash(x, a, b))\n",
        "      return hashes\n",
        "\n",
        "  def update(self, x, show=False):\n",
        "    hashes = self.get_hashes(x)\n",
        "    for i, h in enumerate(hashes):\n",
        "      for j in range(self.s):\n",
        "        self.array[i][h][j] = self.update_morris(self.array[i][h][j])\n",
        "    if show:\n",
        "        print(self)\n",
        "  \n",
        "  def update_morris(self,counter):\n",
        "      if random.random() <= 2**(-counter):\n",
        "        return counter + 1\n",
        "      return counter\n",
        "\n",
        "  def mean_morris_arr(self,arr):\n",
        "    return np.mean(arr)\n",
        "\n",
        "  def query(self, x):\n",
        "    hashes = self.get_hashes(x)\n",
        "    counts = [self.mean_morris_arr(self.array[i][h]) for i, h in enumerate(hashes)]\n",
        "    output = [(2**x) - 1 for x in counts]\n",
        "    return min(output)"
      ],
      "metadata": {
        "id": "suUmB41qHK-t"
      },
      "execution_count": 9,
      "outputs": []
    },
    {
      "cell_type": "code",
      "source": [
        "size = len(df.ipv4Src)"
      ],
      "metadata": {
        "id": "HxaN6XIHrh15"
      },
      "execution_count": 10,
      "outputs": []
    },
    {
      "cell_type": "code",
      "source": [
        "ipv4Src_ls_size = df.ipv4Src.values.tolist()[0:size]\n",
        "ipv4Src_unique_size = list(set(ipv4Src_ls_size))"
      ],
      "metadata": {
        "id": "AGxTpsBlnnjg"
      },
      "execution_count": 11,
      "outputs": []
    },
    {
      "cell_type": "code",
      "source": [
        "counter_CountMinSketch= CountMinSketchWithMorris(20, 48320,3) \n",
        "\n",
        "for x in tqdm(ipv4Src_ls_size):\n",
        "    counter_CountMinSketch.update(x)"
      ],
      "metadata": {
        "id": "DjxHJGPMLfv9",
        "colab": {
          "base_uri": "https://localhost:8080/"
        },
        "outputId": "3b86ec5f-f264-402a-a20b-6e97cffdc470"
      },
      "execution_count": 12,
      "outputs": [
        {
          "output_type": "stream",
          "name": "stderr",
          "text": [
            "100%|██████████| 11625503/11625503 [10:53<00:00, 17779.43it/s]\n"
          ]
        }
      ]
    },
    {
      "cell_type": "markdown",
      "source": [
        "## Count Sketch"
      ],
      "metadata": {
        "id": "qQ4810wMCXqW"
      }
    },
    {
      "cell_type": "code",
      "source": [
        "class CountSketchWithMorris:\n",
        "  \"\"\"\n",
        "  Args:\n",
        "            d (int): number of hash functions\n",
        "            w (int): size of hash \n",
        "  \"\"\"\n",
        "  def __init__(self,d,w):\n",
        "    if d <= 0 or w <= 0:\n",
        "      raise ValueError(\"d, w, s must be greater than 0, s must be greater than 1.\")\n",
        "    self.d = d\n",
        "    self.w = w\n",
        "    self.s = 2\n",
        "\n",
        "    self.p = 100000 # a (relatively) large prime\n",
        "\n",
        "    self.a = [random.randrange(self.p) for i in range(d)]\n",
        "    self.b = [random.randrange(self.p) for i in range(d)]\n",
        "\n",
        "    self.array_init()\n",
        "\n",
        "  def morris_array_init(self):\n",
        "      return [0 for x in range(self.s)] \n",
        "\n",
        "  def array_init(self):\n",
        "      self.array = [[self.morris_array_init() for x in range(self.w)] for y in range(self.d)] \n",
        "  \n",
        "  def sign_hash(self, x, a, b):\n",
        "      return 1 if (a*mmh3.hash(x) + b) % 2 == 0 else -1\n",
        "\n",
        "  def hash(self, x, a, b):\n",
        "      return ((a*mmh3.hash(x)+b)%self.p)%self.w\n",
        "\n",
        "  def get_hashes(self, x):\n",
        "      hashes = []\n",
        "      for a, b in zip(self.a, self.b):\n",
        "          hashes.append(self.hash(x, a, b))\n",
        "      return hashes\n",
        "    \n",
        "  def get_sign_hashes(self, x):\n",
        "    sign_hashes = []\n",
        "    for a, b in zip(self.a, self.b):\n",
        "        sign_hashes.append(self.sign_hash(x, a, b))\n",
        "    return sign_hashes\n",
        "\n",
        "  def update(self, x, show=False):\n",
        "    hashes = self.get_hashes(x)\n",
        "    sign_hashes = self.get_sign_hashes(x)\n",
        "    for i, h in enumerate(hashes):\n",
        "      if sign_hashes[i] > 0:\n",
        "        # o contain the positive counter\n",
        "        self.array[i][h][0] = self.update_morris(self.array[i][h][0])\n",
        "      else:\n",
        "        # 1 countain the negative counter\n",
        "        self.array[i][h][1] = self.update_morris(self.array[i][h][1])\n",
        "    if show:\n",
        "        print(self)\n",
        "  \n",
        "  def update_morris(self,counter):\n",
        "      if random.random() <= 2**(-counter):\n",
        "        return counter + 1\n",
        "      return counter\n",
        "\n",
        "  def sum_up_subArr(self, x):\n",
        "    hashes = self.get_hashes(x)\n",
        "    sign_hashes = self.get_sign_hashes(x)\n",
        "    counts = []\n",
        "    for i, h in enumerate(hashes):\n",
        "      counts.append(sign_hashes[i]* (self.array[i][h][0] - self.array[i][h][1]))\n",
        "    return counts\n",
        "\n",
        "    output = [(2**x) - 1 for x in counts]\n",
        "\n",
        "  def query(self, x):\n",
        "    hashes = self.get_hashes(x)\n",
        "    counts = self.sum_up_subArr(x)\n",
        "    output = [(2**x) - 1 for x in counts]\n",
        "    return np.median(output)"
      ],
      "metadata": {
        "id": "aTVOR4JLwb5W"
      },
      "execution_count": 13,
      "outputs": []
    },
    {
      "cell_type": "code",
      "source": [
        "counterSketch = CountSketchWithMorris(20, 48320) \n",
        "for x in tqdm(ipv4Src_ls_size):\n",
        "    counterSketch.update(x)"
      ],
      "metadata": {
        "id": "JFZmltcu9GEM",
        "colab": {
          "base_uri": "https://localhost:8080/"
        },
        "outputId": "57b464db-3920-4b4b-a0bd-40b72e7fe0c6"
      },
      "execution_count": 14,
      "outputs": [
        {
          "output_type": "stream",
          "name": "stderr",
          "text": [
            "100%|██████████| 11625503/11625503 [08:16<00:00, 23435.20it/s]\n"
          ]
        }
      ]
    },
    {
      "cell_type": "markdown",
      "source": [
        "## Evaluation \n"
      ],
      "metadata": {
        "id": "LVJSKsIAeESl"
      }
    },
    {
      "cell_type": "markdown",
      "source": [
        "The evaluation is done using the following Loss function:\n",
        "\n",
        "![image.png](data:image/png;base64,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)\n",
        "\n",
        "*U* : The Universe ( all the ip's)\n",
        "\n",
        "*RealCount* : The actual count\n",
        "\n",
        "*CountMinSketch* \\ *CountSketch* : The count using the algorithm."
      ],
      "metadata": {
        "id": "TMmdarCTFBkN"
      }
    },
    {
      "cell_type": "code",
      "source": [
        "value_count_dict = df.ipv4Src.head(size).value_counts().to_dict()"
      ],
      "metadata": {
        "id": "qX0lT79IrJLD"
      },
      "execution_count": 25,
      "outputs": []
    },
    {
      "cell_type": "code",
      "source": [
        "def evaluate_Error(realCount,sketch,size):\n",
        "    mse = []\n",
        "    for key in realCount:\n",
        "        count = sketch.query(key)\n",
        "        mse.append(abs(realCount[key]-count))\n",
        "    loss = sum(mse)/size\n",
        "    return loss"
      ],
      "metadata": {
        "id": "tfbW3IIXRCZz"
      },
      "execution_count": 26,
      "outputs": []
    },
    {
      "cell_type": "code",
      "source": [
        "pred_dict_CountMinSketch = {}\n",
        "for x in ipv4Src_unique_size:\n",
        "  pred_dict_CountMinSketch[x] = counter_CountMinSketch.query(x)"
      ],
      "metadata": {
        "id": "JuH51ikdR1Q-"
      },
      "execution_count": 27,
      "outputs": []
    },
    {
      "cell_type": "code",
      "source": [
        "pred__dict_counterSketch = {}\n",
        "for x in ipv4Src_unique_size:\n",
        "  pred__dict_counterSketch[x] = counterSketch.query(x)"
      ],
      "metadata": {
        "id": "3nHbmyr6dr5d"
      },
      "execution_count": 29,
      "outputs": []
    },
    {
      "cell_type": "code",
      "source": [
        "N = 14\n",
        "res_pred_CountMinSketch = dict(sorted(pred_dict_CountMinSketch.items(), key = itemgetter(1), reverse = True)[:N])\n",
        "res_pred_counterSketch = dict(sorted(pred__dict_counterSketch.items(), key = itemgetter(1), reverse = True)[:N])\n",
        "res_true = dict(sorted(value_count_dict.items(), key = itemgetter(1), reverse = True)[:N])\n"
      ],
      "metadata": {
        "id": "0qDIleZl_oxH"
      },
      "execution_count": 66,
      "outputs": []
    },
    {
      "cell_type": "code",
      "source": [
        "plt.figure(figsize=(25,5))\n",
        "plt.plot(list(res_pred_CountMinSketch.keys()), list(res_pred_CountMinSketch.values()),'g',label='CountMinSketch')\n",
        "legend = plt.legend(loc='upper left', shadow=True)\n",
        "plt.show()"
      ],
      "metadata": {
        "id": "jS7OCZZ1RouX",
        "colab": {
          "base_uri": "https://localhost:8080/",
          "height": 331
        },
        "outputId": "d7d381bf-43e9-484e-c566-5822e5fe434e"
      },
      "execution_count": 67,
      "outputs": [
        {
          "output_type": "display_data",
          "data": {
            "text/plain": [
              "<Figure size 1800x360 with 1 Axes>"
            ],
            "image/png": "[encoded data removed]"
          },
          "metadata": {
            "needs_background": "light"
          }
        }
      ]
    },
    {
      "cell_type": "code",
      "source": [
        "plt.figure(figsize=(25,5))\n",
        "plt.plot(list(res_pred_counterSketch.keys()), list(res_pred_counterSketch.values()),'r',label='CountSketch')\n",
        "legend = plt.legend(loc='upper left', shadow=True)\n",
        "plt.show()"
      ],
      "metadata": {
        "id": "UD-d7RgL_wxF",
        "colab": {
          "base_uri": "https://localhost:8080/",
          "height": 331
        },
        "outputId": "0fd58201-bdff-4a26-821f-db855d91653e"
      },
      "execution_count": 68,
      "outputs": [
        {
          "output_type": "display_data",
          "data": {
            "text/plain": [
              "<Figure size 1800x360 with 1 Axes>"
            ],
            "image/png": "[encoded data removed]"
          },
          "metadata": {
            "needs_background": "light"
          }
        }
      ]
    },
    {
      "cell_type": "code",
      "source": [
        "plt.figure(figsize=(25,5))\n",
        "plt.plot(list(res_true.keys()), list(res_true.values()),'b',label='True Sketch frequencies')\n",
        "legend = plt.legend(loc='upper left', shadow=True)\n",
        "plt.show()"
      ],
      "metadata": {
        "id": "wnNY6_NF_ygQ",
        "colab": {
          "base_uri": "https://localhost:8080/",
          "height": 331
        },
        "outputId": "2ddbe406-0731-408b-b835-e52a7d2e2b59"
      },
      "execution_count": 69,
      "outputs": [
        {
          "output_type": "display_data",
          "data": {
            "text/plain": [
              "<Figure size 1800x360 with 1 Axes>"
            ],
            "image/png": "[encoded data removed]"
          },
          "metadata": {
            "needs_background": "light"
          }
        }
      ]
    },
    {
      "cell_type": "code",
      "source": [
        "import matplotlib \n",
        "plt.bar(list(res_true.keys()), list(res_true.values()), label=\"True Value\")\n",
        "plt.bar(list(res_true.keys()), list(res_pred_counterSketch.values()), label=\"counterSketch Value\")\n",
        "plt.bar(list(res_true.keys()), list(res_pred_CountMinSketch.values()), label=\"CountMinSketch Value\")\n",
        "\n",
        "\n",
        "# Add labels and title\n",
        "matplotlib.pyplot.xlabel(\"IP's\")\n",
        "matplotlib.pyplot.ylabel(\"frequence\")\n",
        "matplotlib.pyplot.title(\"Results\")\n",
        "matplotlib.pyplot.legend()\n",
        "\n",
        "# Show the plot\n",
        "matplotlib.pyplot.xticks(fontsize=10, rotation=90)\n",
        "matplotlib.pyplot.show();"
      ],
      "metadata": {
        "colab": {
          "base_uri": "https://localhost:8080/",
          "height": 359
        },
        "id": "veGTAZPzYQPp",
        "outputId": "5c0ea9b3-1c7c-44a0-d4cb-5a376bd617ae"
      },
      "execution_count": 70,
      "outputs": [
        {
          "output_type": "display_data",
          "data": {
            "text/plain": [
              "<Figure size 432x288 with 1 Axes>"
            ],
            "image/png": "[encoded data removed]"
          },
          "metadata": {
            "needs_background": "light"
          }
        }
      ]
    },
    {
      "cell_type": "code",
      "source": [
        "error_counter_CountMinSketch= evaluate_Error(value_count_dict,counter_CountMinSketch,size)\n",
        "print(error_counter_CountMinSketch)"
      ],
      "metadata": {
        "id": "DmjGAQQmCXCE",
        "colab": {
          "base_uri": "https://localhost:8080/"
        },
        "outputId": "38f93531-e899-4d01-b639-3738893d3d5d"
      },
      "execution_count": 34,
      "outputs": [
        {
          "output_type": "stream",
          "name": "stdout",
          "text": [
            "0.5480780924962441\n"
          ]
        }
      ]
    },
    {
      "cell_type": "code",
      "source": [
        "error_counterSketch = evaluate_Error(value_count_dict,counterSketch,size)\n",
        "print(error_counterSketch)"
      ],
      "metadata": {
        "colab": {
          "base_uri": "https://localhost:8080/"
        },
        "id": "z__4k0SLcL0B",
        "outputId": "63e8f82f-954d-47f6-fc30-046974000dff"
      },
      "execution_count": 35,
      "outputs": [
        {
          "output_type": "stream",
          "name": "stdout",
          "text": [
            "0.25267577669542557\n"
          ]
        }
      ]
    },
    {
      "cell_type": "markdown",
      "source": [
        "**Question 1:** We have chosen our parameters with a balance between running time and accuracy in mind. We wanted to achieve a good result while also ensuring that the algorithm is suitable for a real-time streaming environment. Adding more hash functions would result in a longer running time, while reducing the number of hash functions and space would negatively affect the accuracy of the results. Our belief is that in this type of problem, it is better to \"pay\" with space rather than time when the accuracy needs to be close to the true value and provide a good estimate.\n",
        "\n",
        "in particular:\n",
        "- The number of hash functions used in the algorithm is 20. A larger value of hash functions will result in a more accurate estimate of item frequencies, but will also increase the running time of the algorithm. In our case,we have  a relatively small number of hash functions, which may result in less accurate estimates but faster running time.\n",
        "- The Space size which is the width of the multi-dimensional array used in the algorithm. A larger value of w will result in more buckets in the array, allowing for more accurate estimates of item frequencies, but will also increase the memory required to store the data structure. In our case, with w = 48320, we have  a relatively large value for the width of the array, which may result in more accurate estimates but also requires more memory.\n",
        "\n",
        "\n",
        "Overall, our choice of parameters is a balance between the running time and accuracy of the algorithm, as well as memory efficiency. It will bring a good estimate,  and it's more suitable for real-time streaming environment, but it might not be with the best accurate."
      ],
      "metadata": {
        "id": "u3Z7WD9NKQVr"
      }
    },
    {
      "cell_type": "markdown",
      "source": [
        "**Question 2:**The algorithm that is more close in the avarege to the true value is CountSketch.\n",
        "In our implementation, the use of Morris counters with Count Sketch led to more accurate estimates in the average case, because it reduced the impact of hash collisions, which can cause errors in the estimates.\n",
        "The way we chose to implement CountSketch with two different Morris arrays, one for the positive counters and one for the negative counters, helped us to achieve even greater accuracy in our estimates. This is because it allows for a more nuanced handling of positive and negative frequencies, rather than just treating them as a single value. By separating the positive and negative frequencies into different arrays, we can more effectively account for the different effects that they have on the overall estimate. This can lead to more precise estimates, particularly in scenarios where there are a large number of both positive and negative frequencies."
      ],
      "metadata": {
        "id": "wpZIVmULDYjo"
      }
    },
    {
      "cell_type": "markdown",
      "source": [
        "**Question 3.a:** The algorithm that recognize heavy hitters better is Count Min Sketch this is because it uses a multi-dimensional array, which allows for a larger number of buckets, increasing the chances of capturing the correct frequency of the items.\n",
        "larger number of buckets is particularly useful when there are a few items that are much more frequent than the others the more hash functions are used, the higher the chances that the heavy-hitters will be captured by the algorithm. \n",
        "Another reason in our implementation that Count Min Sketch better  in recognizing heavy-hitters is that it uses the minimum value of the counters in the multi-dimensional array as the estimate, whereas count sketch uses the median value. The use of minimum value gives a more conservative estimate, and it is less likely to be affected by outliers, which can be present in heavy-hitters."
      ],
      "metadata": {
        "id": "COcKC1lhFkph"
      }
    },
    {
      "cell_type": "markdown",
      "source": [
        "**Question 3.b:**The algorithm that recognize rare flow is Count sketch, when it comes to recognizing rare flows, the accuracy of the algorithm is the most important factor because rare flows often have a low frequency of occurrence and may be difficult to detect.\n",
        "Counts sketch in our case is more accurate than Count-sketch, so it's a better choice for recognizing rare flows.\n",
        "we noticed that any errors in the estimates can cause the algorithm to miss the true frequency of the rare flow."
      ],
      "metadata": {
        "id": "dnj4uAbCF2Z3"
      }
    },
    {
      "cell_type": "markdown",
      "source": [
        "**Question 4:** The closers algorithm in our implementation to the theory guarantees from the lecture is Count Sketch,\n",
        "By using Morris counters instead of regular counters in both the Count Min Sketch and Count Sketch algorithms, it is possible that the accuracy of the algorithm will be improved. This will be especially true when using the Count Sketch algorithm with two arrays of Morris counters one for the positive and one for the negative. This technique allows us to keep track of both the positive and negative changes in the counters, which improves the accuracy of the algorithm by reducing the impact of underflow and overflow errors.\n",
        "also by  running the algorithm multiple times with different parameters, we found that the Count Sketch algorithm in our implementation was closer to the guarantees, verify our assumptions."
      ],
      "metadata": {
        "id": "vMRdtnTcZhdG"
      }
    },
    {
      "cell_type": "markdown",
      "source": [
        "**Question 5:** In our implementaion of Count Min Sketch and Count Sketch with Morris counters instead of regular counters causes to effect on both memory size and accuracy.\n",
        "- Memory size - using Morris counters can result to a larger memory size because that implementaion can require for each cell multiple arrays instead of just one counter, The larger number of arrays used, the larger of memory size required.\n",
        "- Accuracy - the use of Morris counters can lead to more accurate estimates, as they reduce the impact of hash collisions, which can cause errors in the estimates. "
      ],
      "metadata": {
        "id": "V8iGC1PhOQMh"
      }
    },
    {
      "cell_type": "markdown",
      "source": [
        "**Bonus:** From the insight of our exercise and reading materials , we realized that choosing implementations depends, among other things, on the data you are working on, so we thought of the following idea:\n",
        "In the implementation of Count Sketch we first take a subset from our data and check whether it is better to do median or minimum, we saw that each method is better for a certain type of data.\n",
        "\n",
        "The use of the median value in Count Sketch is more robust to outliers and heavy-tailed distributions, this is because the median value is less affected by extreme values. This makes it a good choice when the data set has a high number of unique items or heavy-tailed distributions.\n",
        "\n",
        "On the other hand, the use of the minimum value in Count Sketch is more conservative, it gives a more accurate estimate when the data set has a low number of unique items or light-tailed distributions. This is because the minimum value is less affected by errors caused by hash collisions."
      ],
      "metadata": {
        "id": "Rb9kH9NVYaSV"
      }
    }
  ]
}