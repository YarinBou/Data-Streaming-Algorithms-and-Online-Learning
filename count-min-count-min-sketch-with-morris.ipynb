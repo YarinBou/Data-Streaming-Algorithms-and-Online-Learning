{
  "nbformat": 4,
  "nbformat_minor": 0,
  "metadata": {
    "colab": {
      "provenance": [],
      "include_colab_link": true
    },
    "kernelspec": {
      "name": "python3",
      "display_name": "Python 3"
    },
    "language_info": {
      "name": "python"
    }
  },
  "cells": [
    {
      "cell_type": "markdown",
      "metadata": {
        "id": "view-in-github",
        "colab_type": "text"
      },
      "source": [
        "<a href=\"https://colab.research.google.com/github/YarinBou/Data-Streaming-Algorithms-and-Online-Learning/blob/main/count-min-count-min-sketch-with-morris.ipynb\" target=\"_parent\"><img src=\"https://colab.research.google.com/assets/colab-badge.svg\" alt=\"Open In Colab\"/></a>"
      ]
    },
    {
      "cell_type": "markdown",
      "source": [
        "## Data Streaming Algorithms and Online Learning EX2"
      ],
      "metadata": {
        "id": "XzHifLZ0t82f"
      }
    },
    {
      "cell_type": "markdown",
      "source": [
        "Yarin Bouzaglo\n",
        "Enav sasson"
      ],
      "metadata": {
        "id": "g9KfuYYSA904"
      }
    },
    {
      "cell_type": "code",
      "source": [
        "!pip install mmh3"
      ],
      "metadata": {
        "colab": {
          "base_uri": "https://localhost:8080/"
        },
        "id": "6kLL-LomOZxt",
        "outputId": "e4cde76c-4b71-4d16-cf3a-4f6a08d58b5b"
      },
      "execution_count": null,
      "outputs": [
        {
          "output_type": "stream",
          "name": "stdout",
          "text": [
            "Looking in indexes: https://pypi.org/simple, https://us-python.pkg.dev/colab-wheels/public/simple/\n",
            "Requirement already satisfied: mmh3 in /usr/local/lib/python3.8/dist-packages (3.0.0)\n"
          ]
        }
      ]
    },
    {
      "cell_type": "code",
      "source": [
        "!pip install tqdm"
      ],
      "metadata": {
        "colab": {
          "base_uri": "https://localhost:8080/"
        },
        "id": "SD1R0kZuxgC-",
        "outputId": "088d4b4f-156c-4b10-c733-0a3994d5782f"
      },
      "execution_count": null,
      "outputs": [
        {
          "output_type": "stream",
          "name": "stdout",
          "text": [
            "Looking in indexes: https://pypi.org/simple, https://us-python.pkg.dev/colab-wheels/public/simple/\n",
            "Requirement already satisfied: tqdm in /usr/local/lib/python3.8/dist-packages (4.64.1)\n"
          ]
        }
      ]
    },
    {
      "cell_type": "code",
      "source": [
        "!pip install -U -q PyDrive"
      ],
      "metadata": {
        "id": "RMMKZGHsNTeB"
      },
      "execution_count": null,
      "outputs": []
    },
    {
      "cell_type": "code",
      "source": [
        "from google.colab import drive\n",
        "import pandas as pd\n",
        "import random\n",
        "from tabulate import tabulate\n",
        "from collections import Counter,defaultdict\n",
        "from tqdm import tqdm\n",
        "import math\n",
        "import numpy as np\n",
        "import random\n",
        "import os\n",
        "import random\n",
        "from pydrive.auth import GoogleAuth\n",
        "from pydrive.drive import GoogleDrive\n",
        "from google.colab import auth\n",
        "from oauth2client.client import GoogleCredentials\n",
        "import mmh3\n",
        "import matplotlib.pyplot as plt\n",
        "from operator import itemgetter\n",
        "from tqdm import tqdm"
      ],
      "metadata": {
        "id": "bTHKgLUhtpfQ"
      },
      "execution_count": null,
      "outputs": []
    },
    {
      "cell_type": "code",
      "source": [
        "# Authenticate and create the PyDrive client.\n",
        "auth.authenticate_user()\n",
        "gauth = GoogleAuth()\n",
        "gauth.credentials = GoogleCredentials.get_application_default()\n",
        "drive = GoogleDrive(gauth)"
      ],
      "metadata": {
        "id": "IR7Lj0ahNUB6"
      },
      "execution_count": null,
      "outputs": []
    },
    {
      "cell_type": "code",
      "source": [
        "link = \"https://drive.google.com/file/d/1IoAt94Hcwoc-oe2gKlz4lvz9IUk-ZVFT/view\"\n",
        "\n",
        "# to get the id part of the file\n",
        "id = link.split(\"/\")[-2]\n",
        " \n",
        "downloaded = drive.CreateFile({'id':id})\n",
        "downloaded.GetContentFile('xclara.csv') \n",
        " \n",
        "df = pd.read_csv('xclara.csv')"
      ],
      "metadata": {
        "id": "VuwwZuG2Nj2b"
      },
      "execution_count": null,
      "outputs": []
    },
    {
      "cell_type": "code",
      "source": [
        "df.head()"
      ],
      "metadata": {
        "colab": {
          "base_uri": "https://localhost:8080/",
          "height": 206
        },
        "id": "HgxDdfzmN1vR",
        "outputId": "24004713-5d1a-4bd9-b300-a38d99b7630a"
      },
      "execution_count": null,
      "outputs": [
        {
          "output_type": "execute_result",
          "data": {
            "text/plain": [
              "                            time        ipv4Src      ipv4Dest  ipProtocol  \\\n",
              "0  2017-07-03 11:55:58.598307848  8.254.250.126  192.168.10.5         6.0   \n",
              "1  2017-07-03 11:55:58.598311901  8.254.250.126  192.168.10.5         6.0   \n",
              "2  2017-07-03 11:55:58.598312855  8.254.250.126  192.168.10.5         6.0   \n",
              "3  2017-07-03 11:55:58.598313808  8.254.250.126  192.168.10.5         6.0   \n",
              "4  2017-07-03 11:55:58.598314762  8.254.250.126  192.168.10.5         6.0   \n",
              "\n",
              "   volume  sourcePort  destPort  \n",
              "0    40.0        80.0   49188.0  \n",
              "1    40.0        80.0   49188.0  \n",
              "2    40.0        80.0   49188.0  \n",
              "3    40.0        80.0   49188.0  \n",
              "4    40.0        80.0   49188.0  "
            ],
            "text/html": [
              "\n",
              "  <div id=\"df-a5cc3cf2-af9e-44a0-9ae1-05def4ab68a8\">\n",
              "    <div class=\"colab-df-container\">\n",
              "      <div>\n",
              "<style scoped>\n",
              "    .dataframe tbody tr th:only-of-type {\n",
              "        vertical-align: middle;\n",
              "    }\n",
              "\n",
              "    .dataframe tbody tr th {\n",
              "        vertical-align: top;\n",
              "    }\n",
              "\n",
              "    .dataframe thead th {\n",
              "        text-align: right;\n",
              "    }\n",
              "</style>\n",
              "<table border=\"1\" class=\"dataframe\">\n",
              "  <thead>\n",
              "    <tr style=\"text-align: right;\">\n",
              "      <th></th>\n",
              "      <th>time</th>\n",
              "      <th>ipv4Src</th>\n",
              "      <th>ipv4Dest</th>\n",
              "      <th>ipProtocol</th>\n",
              "      <th>volume</th>\n",
              "      <th>sourcePort</th>\n",
              "      <th>destPort</th>\n",
              "    </tr>\n",
              "  </thead>\n",
              "  <tbody>\n",
              "    <tr>\n",
              "      <th>0</th>\n",
              "      <td>2017-07-03 11:55:58.598307848</td>\n",
              "      <td>8.254.250.126</td>\n",
              "      <td>192.168.10.5</td>\n",
              "      <td>6.0</td>\n",
              "      <td>40.0</td>\n",
              "      <td>80.0</td>\n",
              "      <td>49188.0</td>\n",
              "    </tr>\n",
              "    <tr>\n",
              "      <th>1</th>\n",
              "      <td>2017-07-03 11:55:58.598311901</td>\n",
              "      <td>8.254.250.126</td>\n",
              "      <td>192.168.10.5</td>\n",
              "      <td>6.0</td>\n",
              "      <td>40.0</td>\n",
              "      <td>80.0</td>\n",
              "      <td>49188.0</td>\n",
              "    </tr>\n",
              "    <tr>\n",
              "      <th>2</th>\n",
              "      <td>2017-07-03 11:55:58.598312855</td>\n",
              "      <td>8.254.250.126</td>\n",
              "      <td>192.168.10.5</td>\n",
              "      <td>6.0</td>\n",
              "      <td>40.0</td>\n",
              "      <td>80.0</td>\n",
              "      <td>49188.0</td>\n",
              "    </tr>\n",
              "    <tr>\n",
              "      <th>3</th>\n",
              "      <td>2017-07-03 11:55:58.598313808</td>\n",
              "      <td>8.254.250.126</td>\n",
              "      <td>192.168.10.5</td>\n",
              "      <td>6.0</td>\n",
              "      <td>40.0</td>\n",
              "      <td>80.0</td>\n",
              "      <td>49188.0</td>\n",
              "    </tr>\n",
              "    <tr>\n",
              "      <th>4</th>\n",
              "      <td>2017-07-03 11:55:58.598314762</td>\n",
              "      <td>8.254.250.126</td>\n",
              "      <td>192.168.10.5</td>\n",
              "      <td>6.0</td>\n",
              "      <td>40.0</td>\n",
              "      <td>80.0</td>\n",
              "      <td>49188.0</td>\n",
              "    </tr>\n",
              "  </tbody>\n",
              "</table>\n",
              "</div>\n",
              "      <button class=\"colab-df-convert\" onclick=\"convertToInteractive('df-a5cc3cf2-af9e-44a0-9ae1-05def4ab68a8')\"\n",
              "              title=\"Convert this dataframe to an interactive table.\"\n",
              "              style=\"display:none;\">\n",
              "        \n",
              "  <svg xmlns=\"http://www.w3.org/2000/svg\" height=\"24px\"viewBox=\"0 0 24 24\"\n",
              "       width=\"24px\">\n",
              "    <path d=\"M0 0h24v24H0V0z\" fill=\"none\"/>\n",
              "    <path d=\"M18.56 5.44l.94 2.06.94-2.06 2.06-.94-2.06-.94-.94-2.06-.94 2.06-2.06.94zm-11 1L8.5 8.5l.94-2.06 2.06-.94-2.06-.94L8.5 2.5l-.94 2.06-2.06.94zm10 10l.94 2.06.94-2.06 2.06-.94-2.06-.94-.94-2.06-.94 2.06-2.06.94z\"/><path d=\"M17.41 7.96l-1.37-1.37c-.4-.4-.92-.59-1.43-.59-.52 0-1.04.2-1.43.59L10.3 9.45l-7.72 7.72c-.78.78-.78 2.05 0 2.83L4 21.41c.39.39.9.59 1.41.59.51 0 1.02-.2 1.41-.59l7.78-7.78 2.81-2.81c.8-.78.8-2.07 0-2.86zM5.41 20L4 18.59l7.72-7.72 1.47 1.35L5.41 20z\"/>\n",
              "  </svg>\n",
              "      </button>\n",
              "      \n",
              "  <style>\n",
              "    .colab-df-container {\n",
              "      display:flex;\n",
              "      flex-wrap:wrap;\n",
              "      gap: 12px;\n",
              "    }\n",
              "\n",
              "    .colab-df-convert {\n",
              "      background-color: #E8F0FE;\n",
              "      border: none;\n",
              "      border-radius: 50%;\n",
              "      cursor: pointer;\n",
              "      display: none;\n",
              "      fill: #1967D2;\n",
              "      height: 32px;\n",
              "      padding: 0 0 0 0;\n",
              "      width: 32px;\n",
              "    }\n",
              "\n",
              "    .colab-df-convert:hover {\n",
              "      background-color: #E2EBFA;\n",
              "      box-shadow: 0px 1px 2px rgba(60, 64, 67, 0.3), 0px 1px 3px 1px rgba(60, 64, 67, 0.15);\n",
              "      fill: #174EA6;\n",
              "    }\n",
              "\n",
              "    [theme=dark] .colab-df-convert {\n",
              "      background-color: #3B4455;\n",
              "      fill: #D2E3FC;\n",
              "    }\n",
              "\n",
              "    [theme=dark] .colab-df-convert:hover {\n",
              "      background-color: #434B5C;\n",
              "      box-shadow: 0px 1px 3px 1px rgba(0, 0, 0, 0.15);\n",
              "      filter: drop-shadow(0px 1px 2px rgba(0, 0, 0, 0.3));\n",
              "      fill: #FFFFFF;\n",
              "    }\n",
              "  </style>\n",
              "\n",
              "      <script>\n",
              "        const buttonEl =\n",
              "          document.querySelector('#df-a5cc3cf2-af9e-44a0-9ae1-05def4ab68a8 button.colab-df-convert');\n",
              "        buttonEl.style.display =\n",
              "          google.colab.kernel.accessAllowed ? 'block' : 'none';\n",
              "\n",
              "        async function convertToInteractive(key) {\n",
              "          const element = document.querySelector('#df-a5cc3cf2-af9e-44a0-9ae1-05def4ab68a8');\n",
              "          const dataTable =\n",
              "            await google.colab.kernel.invokeFunction('convertToInteractive',\n",
              "                                                     [key], {});\n",
              "          if (!dataTable) return;\n",
              "\n",
              "          const docLinkHtml = 'Like what you see? Visit the ' +\n",
              "            '<a target=\"_blank\" href=https://colab.research.google.com/notebooks/data_table.ipynb>data table notebook</a>'\n",
              "            + ' to learn more about interactive tables.';\n",
              "          element.innerHTML = '';\n",
              "          dataTable['output_type'] = 'display_data';\n",
              "          await google.colab.output.renderOutput(dataTable, element);\n",
              "          const docLink = document.createElement('div');\n",
              "          docLink.innerHTML = docLinkHtml;\n",
              "          element.appendChild(docLink);\n",
              "        }\n",
              "      </script>\n",
              "    </div>\n",
              "  </div>\n",
              "  "
            ]
          },
          "metadata": {},
          "execution_count": 24
        }
      ]
    },
    {
      "cell_type": "markdown",
      "source": [
        "## count-min-sketch"
      ],
      "metadata": {
        "id": "t19QHspYCbJ7"
      }
    },
    {
      "cell_type": "code",
      "source": [
        "ipv4Src_ls = df.ipv4Src.values.tolist()\n",
        "ipv4Src_unique = df.ipv4Src.unique().tolist()"
      ],
      "metadata": {
        "id": "k2V1v1xy3gdY"
      },
      "execution_count": null,
      "outputs": []
    },
    {
      "cell_type": "code",
      "source": [
        "class CountMinSketchWithMorris:\n",
        "  \"\"\"\n",
        "  Args:\n",
        "            d (int): number of hash functions\n",
        "            w (int): size of hash \n",
        "            s (int): size of morris array \n",
        "  \"\"\"\n",
        "  def __init__(self,d,w,s):\n",
        "    if d <= 0 or w <= 0 or s <= 1:\n",
        "      raise ValueError(\"d, w, s must be greater than 0, s must be greater than 1.\")\n",
        "    self.d = d\n",
        "    self.w = w\n",
        "    self.s = s\n",
        "\n",
        "    self.p = 100000 # a (relatively) large prime\n",
        "\n",
        "    self.a = [random.randrange(self.p) for i in range(d)]\n",
        "    self.b = [random.randrange(self.p) for i in range(d)]\n",
        "\n",
        "    self.array_init()\n",
        "\n",
        "  def morris_array_init(self):\n",
        "      return [0 for x in range(self.s)] \n",
        "\n",
        "  def array_init(self):\n",
        "      self.array = [[self.morris_array_init() for x in range(self.w)] for y in range(self.d)] \n",
        "  \n",
        "  def hash(self, x, a, b):\n",
        "      return ((a*mmh3.hash(x)+b)%self.p)%self.w\n",
        "\n",
        "  def get_hashes(self, x):\n",
        "      hashes = []\n",
        "      for a, b in zip(self.a, self.b):\n",
        "          hashes.append(self.hash(x, a, b))\n",
        "      return hashes\n",
        "\n",
        "  def update(self, x, show=False):\n",
        "    hashes = self.get_hashes(x)\n",
        "    for i, h in enumerate(hashes):\n",
        "      for j in range(self.s):\n",
        "        self.array[i][h][j] = self.update_morris(self.array[i][h][j])\n",
        "    if show:\n",
        "        print(self)\n",
        "  \n",
        "  def update_morris(self,counter):\n",
        "      if random.random() <= 2**(-counter):\n",
        "        return counter + 1\n",
        "      return counter\n",
        "\n",
        "  def mean_morris_arr(self,arr):\n",
        "    return np.mean(arr)\n",
        "\n",
        "  def query(self, x):\n",
        "    hashes = self.get_hashes(x)\n",
        "    counts = [self.mean_morris_arr(self.array[i][h]) for i, h in enumerate(hashes)]\n",
        "    output = [(2**x) - 1 for x in counts]\n",
        "    return min(output)"
      ],
      "metadata": {
        "id": "suUmB41qHK-t"
      },
      "execution_count": null,
      "outputs": []
    },
    {
      "cell_type": "code",
      "source": [
        "size = len(df.ipv4Src)\n",
        "#size = 1000000"
      ],
      "metadata": {
        "id": "HxaN6XIHrh15"
      },
      "execution_count": null,
      "outputs": []
    },
    {
      "cell_type": "code",
      "source": [
        "ipv4Src_ls_size = df.ipv4Src.values.tolist()[0:size]\n",
        "ipv4Src_unique_size = list(set(ipv4Src_ls_size))\n",
        "len(ipv4Src_unique_size)"
      ],
      "metadata": {
        "colab": {
          "base_uri": "https://localhost:8080/"
        },
        "id": "AGxTpsBlnnjg",
        "outputId": "2b51ce4a-01e5-40f8-eafc-518ec1a69279"
      },
      "execution_count": null,
      "outputs": [
        {
          "output_type": "execute_result",
          "data": {
            "text/plain": [
              "9640"
            ]
          },
          "metadata": {},
          "execution_count": 14
        }
      ]
    },
    {
      "cell_type": "code",
      "source": [
        "counter_morris = CountMinSketchWithMorris(20, 500000,3) \n",
        "\n",
        "for x in tqdm(ipv4Src_ls_size):\n",
        "    counter_morris.update(x)"
      ],
      "metadata": {
        "id": "DjxHJGPMLfv9",
        "colab": {
          "base_uri": "https://localhost:8080/"
        },
        "outputId": "e57592c6-0066-431b-a671-a8e8f0a585e5"
      },
      "execution_count": null,
      "outputs": [
        {
          "output_type": "stream",
          "name": "stderr",
          "text": [
            "100%|██████████| 11625503/11625503 [13:37<00:00, 14226.79it/s]\n"
          ]
        }
      ]
    },
    {
      "cell_type": "code",
      "source": [
        "value_count_dict = df.ipv4Src.head(size).value_counts().to_dict()"
      ],
      "metadata": {
        "id": "qX0lT79IrJLD"
      },
      "execution_count": null,
      "outputs": []
    },
    {
      "cell_type": "code",
      "source": [
        "def evaluate_MSE(true_dict,sketch,size):\n",
        "    mse = []\n",
        "    for key in true_dict:\n",
        "        count = sketch.query(key)\n",
        "        mse.append((true_dict[key]-count)**2)\n",
        "    loss = sum(mse)/size\n",
        "    return loss"
      ],
      "metadata": {
        "id": "tfbW3IIXRCZz"
      },
      "execution_count": null,
      "outputs": []
    },
    {
      "cell_type": "code",
      "source": [
        "loss_morris = evaluate_MSE(value_count_dict,counter_morris,size)\n",
        "print(loss_morris)"
      ],
      "metadata": {
        "id": "DmjGAQQmCXCE",
        "colab": {
          "base_uri": "https://localhost:8080/"
        },
        "outputId": "3927a0d6-b6a1-42d3-e40e-44cf316011f1"
      },
      "execution_count": null,
      "outputs": [
        {
          "output_type": "stream",
          "name": "stdout",
          "text": [
            "357111.11942724744\n"
          ]
        }
      ]
    },
    {
      "cell_type": "code",
      "source": [
        "pred_dict = {}\n",
        "for x in ipv4Src_unique_size:\n",
        "  pred_dict[x] = counter_morris.query(x)"
      ],
      "metadata": {
        "id": "JuH51ikdR1Q-"
      },
      "execution_count": null,
      "outputs": []
    },
    {
      "cell_type": "code",
      "source": [
        "N = 10\n",
        "res_pred = dict(sorted(pred_dict.items(), key = itemgetter(1), reverse = True)[:N])\n",
        "res_true = dict(sorted(value_count_dict.items(), key = itemgetter(1), reverse = True)[:N])\n"
      ],
      "metadata": {
        "id": "fgEPNw9xS1MV"
      },
      "execution_count": null,
      "outputs": []
    },
    {
      "cell_type": "code",
      "source": [
        "plt.figure(figsize=(25,5))\n",
        "plt.plot(list(res_pred.keys()), list(res_pred.values()),'r',label='CountMinSketch')\n",
        "legend = plt.legend(loc='upper left', shadow=True)\n",
        "plt.show()"
      ],
      "metadata": {
        "id": "jS7OCZZ1RouX",
        "colab": {
          "base_uri": "https://localhost:8080/",
          "height": 302
        },
        "outputId": "2af22658-67f7-47c9-bc8f-72e9ea0780be"
      },
      "execution_count": null,
      "outputs": [
        {
          "output_type": "display_data",
          "data": {
            "text/plain": [
              "<Figure size 1800x360 with 1 Axes>"
            ],
            "image/png": "[encoded data removed]"
          },
          "metadata": {
            "needs_background": "light"
          }
        }
      ]
    },
    {
      "cell_type": "code",
      "source": [
        "plt.figure(figsize=(25,5))\n",
        "plt.plot(list(res_true.keys()), list(res_true.values()),'b',label='True Sketch frequencies')\n",
        "legend = plt.legend(loc='upper left', shadow=True)\n",
        "plt.show()"
      ],
      "metadata": {
        "id": "TXI_hg9KSRzX",
        "colab": {
          "base_uri": "https://localhost:8080/",
          "height": 302
        },
        "outputId": "99677a58-4fdb-4184-d947-f19863f58b2a"
      },
      "execution_count": null,
      "outputs": [
        {
          "output_type": "display_data",
          "data": {
            "text/plain": [
              "<Figure size 1800x360 with 1 Axes>"
            ],
            "image/png": "[encoded data removed]"
          },
          "metadata": {
            "needs_background": "light"
          }
        }
      ]
    },
    {
      "cell_type": "markdown",
      "source": [
        "## count-sketch"
      ],
      "metadata": {
        "id": "qQ4810wMCXqW"
      }
    },
    {
      "cell_type": "code",
      "source": [
        "class CountSketchWithMorris:\n",
        "  \"\"\"\n",
        "  Args:\n",
        "            d (int): number of hash functions\n",
        "            w (int): size of hash \n",
        "  \"\"\"\n",
        "  def __init__(self,d,w):\n",
        "    if d <= 0 or w <= 0:\n",
        "      raise ValueError(\"d, w, s must be greater than 0, s must be greater than 1.\")\n",
        "    self.d = d\n",
        "    self.w = w\n",
        "    self.s = 2\n",
        "\n",
        "    self.p = 100000 # a (relatively) large prime\n",
        "\n",
        "    self.a = [random.randrange(self.p) for i in range(d)]\n",
        "    self.b = [random.randrange(self.p) for i in range(d)]\n",
        "\n",
        "    self.array_init()\n",
        "\n",
        "  def morris_array_init(self):\n",
        "      return [0 for x in range(self.s)] \n",
        "\n",
        "  def array_init(self):\n",
        "      self.array = [[self.morris_array_init() for x in range(self.w)] for y in range(self.d)] \n",
        "  \n",
        "  def sign_hash(self, x, a, b):\n",
        "      return 1 if (a*mmh3.hash(x) + b) % 2 == 0 else -1\n",
        "\n",
        "  def hash(self, x, a, b):\n",
        "      return ((a*mmh3.hash(x)+b)%self.p)%self.w\n",
        "\n",
        "  def get_hashes(self, x):\n",
        "      hashes = []\n",
        "      for a, b in zip(self.a, self.b):\n",
        "          hashes.append(self.hash(x, a, b))\n",
        "      return hashes\n",
        "    \n",
        "  def get_sign_hashes(self, x):\n",
        "    sign_hashes = []\n",
        "    for a, b in zip(self.a, self.b):\n",
        "        sign_hashes.append(self.sign_hash(x, a, b))\n",
        "    return sign_hashes\n",
        "\n",
        "  def update(self, x, show=False):\n",
        "    hashes = self.get_hashes(x)\n",
        "    sign_hashes = self.get_sign_hashes(x)\n",
        "    for i, h in enumerate(hashes):\n",
        "      if sign_hashes[i] > 0:\n",
        "        # o contain the positive counter\n",
        "        self.array[i][h][0] = self.update_morris(self.array[i][h][0])\n",
        "      else:\n",
        "        # 1 countain the negative counter\n",
        "        self.array[i][h][1] = self.update_morris(self.array[i][h][1])\n",
        "    if show:\n",
        "        print(self)\n",
        "  \n",
        "  def update_morris(self,counter):\n",
        "      if random.random() <= 2**(-counter):\n",
        "        return counter + 1\n",
        "      return counter\n",
        "\n",
        "  def sum_up_subArr(self, x):\n",
        "    hashes = self.get_hashes(x)\n",
        "    sign_hashes = self.get_sign_hashes(x)\n",
        "    counts = []\n",
        "    for i, h in enumerate(hashes):\n",
        "      counts.append(sign_hashes[i]* (self.array[i][h][0] - self.array[i][h][1]))\n",
        "    return counts\n",
        "\n",
        "    output = [(2**x) - 1 for x in counts]\n",
        "\n",
        "  def query(self, x):\n",
        "    hashes = self.get_hashes(x)\n",
        "    counts = self.sum_up_subArr(x)\n",
        "    output = [(2**x) - 1 for x in counts]\n",
        "    return np.median(output)"
      ],
      "metadata": {
        "id": "aTVOR4JLwb5W"
      },
      "execution_count": null,
      "outputs": []
    },
    {
      "cell_type": "code",
      "source": [
        "counterSketch = CountSketchWithMorris(20, 500000) \n",
        "for x in tqdm(ipv4Src_ls_size):\n",
        "    counterSketch.update(x)"
      ],
      "metadata": {
        "id": "JFZmltcu9GEM",
        "colab": {
          "base_uri": "https://localhost:8080/"
        },
        "outputId": "22c2d8af-bf87-4d91-eb76-88058bfcba4a"
      },
      "execution_count": null,
      "outputs": [
        {
          "output_type": "stream",
          "name": "stderr",
          "text": [
            "100%|██████████| 11625503/11625503 [09:50<00:00, 19691.24it/s]\n"
          ]
        }
      ]
    },
    {
      "cell_type": "code",
      "source": [
        "pred_counterSketch_dict = {}\n",
        "for x in ipv4Src_unique_size:\n",
        "  pred_counterSketch_dict[x] = counterSketch.query(x)"
      ],
      "metadata": {
        "id": "u3nTuymD_ZOk"
      },
      "execution_count": null,
      "outputs": []
    },
    {
      "cell_type": "code",
      "source": [
        "N = 10\n",
        "res_pred_counterSketch = dict(sorted(pred_counterSketch_dict.items(), key = itemgetter(1), reverse = True)[:N])\n",
        "res_true_counterSketch = dict(sorted(value_count_dict.items(), key = itemgetter(1), reverse = True)[:N])\n"
      ],
      "metadata": {
        "id": "0qDIleZl_oxH"
      },
      "execution_count": null,
      "outputs": []
    },
    {
      "cell_type": "code",
      "source": [
        "plt.figure(figsize=(25,5))\n",
        "plt.plot(list(res_pred_counterSketch.keys()), list(res_pred_counterSketch.values()),'r',label='CountSketch')\n",
        "legend = plt.legend(loc='upper left', shadow=True)\n",
        "plt.show()"
      ],
      "metadata": {
        "id": "UD-d7RgL_wxF",
        "colab": {
          "base_uri": "https://localhost:8080/",
          "height": 301
        },
        "outputId": "3078b75e-16d5-4b53-8cc2-a0154b889a74"
      },
      "execution_count": null,
      "outputs": [
        {
          "output_type": "display_data",
          "data": {
            "text/plain": [
              "<Figure size 1800x360 with 1 Axes>"
            ],
            "image/png": "[encoded data removed]"
          },
          "metadata": {
            "needs_background": "light"
          }
        }
      ]
    },
    {
      "cell_type": "code",
      "source": [
        "plt.figure(figsize=(25,5))\n",
        "plt.plot(list(res_true_counterSketch.keys()), list(res_true_counterSketch.values()),'b',label='True Sketch frequencies')\n",
        "legend = plt.legend(loc='upper left', shadow=True)\n",
        "plt.show()"
      ],
      "metadata": {
        "id": "wnNY6_NF_ygQ",
        "colab": {
          "base_uri": "https://localhost:8080/",
          "height": 302
        },
        "outputId": "a20ffb1d-f771-42fb-a26a-efdb15b18a36"
      },
      "execution_count": null,
      "outputs": [
        {
          "output_type": "display_data",
          "data": {
            "text/plain": [
              "<Figure size 1800x360 with 1 Axes>"
            ],
            "image/png": "[encoded data removed]"
          },
          "metadata": {
            "needs_background": "light"
          }
        }
      ]
    },
    {
      "cell_type": "markdown",
      "source": [
        "**Question 1:** We have chosen our parameters with a balance between running time and accuracy in mind. We wanted to achieve a good result while also ensuring that the algorithm is suitable for a real-time streaming environment. Adding more hash functions would result in a longer running time, while reducing the number of hash functions and space would negatively affect the accuracy of the results. Our belief is that in this type of problem, it is better to \"pay\" with space rather than time when the accuracy needs to be close to the true value and provide a good estimate.\n",
        "\n",
        "in particular:\n",
        "- The number of hash functions used in the algorithm is 20. A larger value of hash functions will result in a more accurate estimate of item frequencies, but will also increase the running time of the algorithm. In our case,we have  a relatively small number of hash functions, which may result in less accurate estimates but faster running time.\n",
        "- The Space size which is the width of the multi-dimensional array used in the algorithm. A larger value of w will result in more buckets in the array, allowing for more accurate estimates of item frequencies, but will also increase the memory required to store the data structure. In our case, with w = 500,000, we have  a relatively large value for the width of the array, which may result in more accurate estimates but also requires more memory.\n",
        "\n",
        "\n",
        "Overall, our choice of parameters is a balance between the running time and accuracy of the algorithm, as well as memory efficiency. It will bring a good estimate,  and it's more suitable for real-time streaming environment, but it might not be with the best accurate."
      ],
      "metadata": {
        "id": "u3Z7WD9NKQVr"
      }
    },
    {
      "cell_type": "markdown",
      "source": [
        "The algorithm that recognize elephnts flow is\n"
      ],
      "metadata": {
        "id": "COcKC1lhFkph"
      }
    },
    {
      "cell_type": "markdown",
      "source": [
        "**Question 2:**The algorithm that is more close in the avarege to the true value is CountSketch.\n",
        "It's possible that in our implementation, the use of Morris counters with Count Sketch led to more accurate estimates in the average case, because it reduced the impact of hash collisions, which can cause errors in the estimates."
      ],
      "metadata": {
        "id": "wpZIVmULDYjo"
      }
    },
    {
      "cell_type": "markdown",
      "source": [
        "The algorithm that recognize rare flow is:"
      ],
      "metadata": {
        "id": "dnj4uAbCF2Z3"
      }
    }
  ]
}